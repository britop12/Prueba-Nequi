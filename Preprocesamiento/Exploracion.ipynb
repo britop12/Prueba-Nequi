{
 "cells": [
  {
   "cell_type": "code",
   "execution_count": 12,
   "id": "22514e26",
   "metadata": {},
   "outputs": [],
   "source": [
    "import pandas as pd\n",
    "import re\n"
   ]
  },
  {
   "cell_type": "markdown",
   "id": "714d7a2d",
   "metadata": {},
   "source": [
    "# Lectura del Dataset"
   ]
  },
  {
   "cell_type": "markdown",
   "id": "8fddf9f4",
   "metadata": {},
   "source": [
    "Iniciamos con la lectura del dataset, aquí es muy importante desde el inicio tener claro, que los datos que nos interesan son aquellas en las que tengan el \"inbound=True\", porque son aquellos mensajes que el usuario hace hacia la empresa. El objetivo principal para lo que se planea usar los siguientes datos, es clasificar los mensajes de los usuarios dependiendo si es critico o no, para facilitar el acceso de los twets al soporte de la empresa."
   ]
  },
  {
   "cell_type": "code",
   "execution_count": 13,
   "id": "d16c359c",
   "metadata": {},
   "outputs": [
    {
     "data": {
      "text/html": [
       "<div>\n",
       "<style scoped>\n",
       "    .dataframe tbody tr th:only-of-type {\n",
       "        vertical-align: middle;\n",
       "    }\n",
       "\n",
       "    .dataframe tbody tr th {\n",
       "        vertical-align: top;\n",
       "    }\n",
       "\n",
       "    .dataframe thead th {\n",
       "        text-align: right;\n",
       "    }\n",
       "</style>\n",
       "<table border=\"1\" class=\"dataframe\">\n",
       "  <thead>\n",
       "    <tr style=\"text-align: right;\">\n",
       "      <th></th>\n",
       "      <th>tweet_id</th>\n",
       "      <th>author_id</th>\n",
       "      <th>inbound</th>\n",
       "      <th>created_at</th>\n",
       "      <th>text</th>\n",
       "      <th>response_tweet_id</th>\n",
       "      <th>in_response_to_tweet_id</th>\n",
       "    </tr>\n",
       "  </thead>\n",
       "  <tbody>\n",
       "    <tr>\n",
       "      <th>1</th>\n",
       "      <td>2</td>\n",
       "      <td>115712</td>\n",
       "      <td>True</td>\n",
       "      <td>Tue Oct 31 22:11:45 +0000 2017</td>\n",
       "      <td>@sprintcare and how do you propose we do that</td>\n",
       "      <td>NaN</td>\n",
       "      <td>1.0</td>\n",
       "    </tr>\n",
       "    <tr>\n",
       "      <th>2</th>\n",
       "      <td>3</td>\n",
       "      <td>115712</td>\n",
       "      <td>True</td>\n",
       "      <td>Tue Oct 31 22:08:27 +0000 2017</td>\n",
       "      <td>@sprintcare I have sent several private messag...</td>\n",
       "      <td>1</td>\n",
       "      <td>4.0</td>\n",
       "    </tr>\n",
       "    <tr>\n",
       "      <th>4</th>\n",
       "      <td>5</td>\n",
       "      <td>115712</td>\n",
       "      <td>True</td>\n",
       "      <td>Tue Oct 31 21:49:35 +0000 2017</td>\n",
       "      <td>@sprintcare I did.</td>\n",
       "      <td>4</td>\n",
       "      <td>6.0</td>\n",
       "    </tr>\n",
       "    <tr>\n",
       "      <th>6</th>\n",
       "      <td>8</td>\n",
       "      <td>115712</td>\n",
       "      <td>True</td>\n",
       "      <td>Tue Oct 31 21:45:10 +0000 2017</td>\n",
       "      <td>@sprintcare is the worst customer service</td>\n",
       "      <td>9,6,10</td>\n",
       "      <td>NaN</td>\n",
       "    </tr>\n",
       "    <tr>\n",
       "      <th>8</th>\n",
       "      <td>12</td>\n",
       "      <td>115713</td>\n",
       "      <td>True</td>\n",
       "      <td>Tue Oct 31 22:04:47 +0000 2017</td>\n",
       "      <td>@sprintcare You gonna magically change your co...</td>\n",
       "      <td>11,13,14</td>\n",
       "      <td>15.0</td>\n",
       "    </tr>\n",
       "  </tbody>\n",
       "</table>\n",
       "</div>"
      ],
      "text/plain": [
       "   tweet_id author_id  inbound                      created_at  \\\n",
       "1         2    115712     True  Tue Oct 31 22:11:45 +0000 2017   \n",
       "2         3    115712     True  Tue Oct 31 22:08:27 +0000 2017   \n",
       "4         5    115712     True  Tue Oct 31 21:49:35 +0000 2017   \n",
       "6         8    115712     True  Tue Oct 31 21:45:10 +0000 2017   \n",
       "8        12    115713     True  Tue Oct 31 22:04:47 +0000 2017   \n",
       "\n",
       "                                                text response_tweet_id  \\\n",
       "1      @sprintcare and how do you propose we do that               NaN   \n",
       "2  @sprintcare I have sent several private messag...                 1   \n",
       "4                                 @sprintcare I did.                 4   \n",
       "6          @sprintcare is the worst customer service            9,6,10   \n",
       "8  @sprintcare You gonna magically change your co...          11,13,14   \n",
       "\n",
       "   in_response_to_tweet_id  \n",
       "1                      1.0  \n",
       "2                      4.0  \n",
       "4                      6.0  \n",
       "6                      NaN  \n",
       "8                     15.0  "
      ]
     },
     "execution_count": 13,
     "metadata": {},
     "output_type": "execute_result"
    }
   ],
   "source": [
    "df = pd.read_csv('twcs.csv')\n",
    "\n",
    "df = df[df['inbound'] == True] # Importante! Esto solo nos dejara los tweets de los usuarios a la empresa\n",
    "\n",
    "df.head()"
   ]
  },
  {
   "cell_type": "markdown",
   "id": "6338ace1",
   "metadata": {},
   "source": [
    "Como podemos observar en los primeros elementos del dataset, la única columna que en el momento nos interesa es \"text\", porque este contiene el mensaje del usuario. Como en este caso no tenemos una columna \"Label\", o la columna que predecir, mas adelante veremos como preparamos el dataset, para tener dos etiquetas: 0->No crítico, es decir los mensajes en los que posiblemente no haya que responder al usuario. 1->Crítico, mensaje que es necesario responder al usuario, ya que posiblemente puede ser alguna queja, problema, error, que toque darle soporte al usuario."
   ]
  },
  {
   "cell_type": "markdown",
   "id": "2c922a60",
   "metadata": {},
   "source": [
    "## Analisis Exploratorio"
   ]
  },
  {
   "cell_type": "code",
   "execution_count": 14,
   "id": "229f9413",
   "metadata": {},
   "outputs": [
    {
     "name": "stdout",
     "output_type": "stream",
     "text": [
      "Numero de tweets:  1537843\n"
     ]
    }
   ],
   "source": [
    "print(\"Numero de tweets: \", len(df))"
   ]
  },
  {
   "cell_type": "code",
   "execution_count": 15,
   "id": "b43fc2fd",
   "metadata": {},
   "outputs": [
    {
     "data": {
      "text/plain": [
       "tweet_id                        0\n",
       "author_id                       0\n",
       "inbound                         0\n",
       "created_at                      0\n",
       "text                            0\n",
       "response_tweet_id          234014\n",
       "in_response_to_tweet_id    787346\n",
       "dtype: int64"
      ]
     },
     "execution_count": 15,
     "metadata": {},
     "output_type": "execute_result"
    }
   ],
   "source": [
    "df.isnull().sum()                   # Nulos por columna"
   ]
  },
  {
   "cell_type": "code",
   "execution_count": 16,
   "id": "25a270f9",
   "metadata": {},
   "outputs": [
    {
     "data": {
      "text/plain": [
       "count    1.537843e+06\n",
       "mean     1.099361e+02\n",
       "std      5.716449e+01\n",
       "min      1.000000e+00\n",
       "25%      6.700000e+01\n",
       "50%      1.090000e+02\n",
       "75%      1.400000e+02\n",
       "max      5.130000e+02\n",
       "Name: text, dtype: float64"
      ]
     },
     "execution_count": 16,
     "metadata": {},
     "output_type": "execute_result"
    }
   ],
   "source": [
    "df['text'].str.len().describe()     # Estadísticas de longitud de texto"
   ]
  },
  {
   "cell_type": "markdown",
   "id": "aa1ef079",
   "metadata": {},
   "source": [
    "De este pequeño analisis exploratorio, podemos observar, que no hay que lidiar con datos nulos, porque como se mencionó anteriormente, de aquí la única columna que nos interesa es la de \"text\""
   ]
  },
  {
   "cell_type": "markdown",
   "id": "de1c6842",
   "metadata": {},
   "source": [
    "## Limpieza de datos"
   ]
  },
  {
   "cell_type": "markdown",
   "id": "e8507508",
   "metadata": {},
   "source": [
    "En esta sección, la idea principal es estandarizar y limpiar un poco el texto, para luego poder etiquetar."
   ]
  },
  {
   "cell_type": "code",
   "execution_count": 17,
   "id": "fe3b0555",
   "metadata": {},
   "outputs": [],
   "source": [
    "def clean_text(text):\n",
    "    text = text.lower() # Convertir a minúsculas\n",
    "    text = re.sub(r'http\\S+|www\\S+|https\\S+', '', text, flags=re.MULTILINE) # Eliminar URLs\n",
    "    return text.strip()\n",
    "\n",
    "df['text'] = df['text'].apply(clean_text) # Aplicar la limpieza a cada tweet"
   ]
  },
  {
   "cell_type": "code",
   "execution_count": 18,
   "id": "38cf96e0",
   "metadata": {},
   "outputs": [
    {
     "data": {
      "text/html": [
       "<div>\n",
       "<style scoped>\n",
       "    .dataframe tbody tr th:only-of-type {\n",
       "        vertical-align: middle;\n",
       "    }\n",
       "\n",
       "    .dataframe tbody tr th {\n",
       "        vertical-align: top;\n",
       "    }\n",
       "\n",
       "    .dataframe thead th {\n",
       "        text-align: right;\n",
       "    }\n",
       "</style>\n",
       "<table border=\"1\" class=\"dataframe\">\n",
       "  <thead>\n",
       "    <tr style=\"text-align: right;\">\n",
       "      <th></th>\n",
       "      <th>tweet_id</th>\n",
       "      <th>author_id</th>\n",
       "      <th>inbound</th>\n",
       "      <th>created_at</th>\n",
       "      <th>text</th>\n",
       "      <th>response_tweet_id</th>\n",
       "      <th>in_response_to_tweet_id</th>\n",
       "    </tr>\n",
       "  </thead>\n",
       "  <tbody>\n",
       "    <tr>\n",
       "      <th>1</th>\n",
       "      <td>2</td>\n",
       "      <td>115712</td>\n",
       "      <td>True</td>\n",
       "      <td>Tue Oct 31 22:11:45 +0000 2017</td>\n",
       "      <td>@sprintcare and how do you propose we do that</td>\n",
       "      <td>NaN</td>\n",
       "      <td>1.0</td>\n",
       "    </tr>\n",
       "    <tr>\n",
       "      <th>2</th>\n",
       "      <td>3</td>\n",
       "      <td>115712</td>\n",
       "      <td>True</td>\n",
       "      <td>Tue Oct 31 22:08:27 +0000 2017</td>\n",
       "      <td>@sprintcare i have sent several private messag...</td>\n",
       "      <td>1</td>\n",
       "      <td>4.0</td>\n",
       "    </tr>\n",
       "    <tr>\n",
       "      <th>4</th>\n",
       "      <td>5</td>\n",
       "      <td>115712</td>\n",
       "      <td>True</td>\n",
       "      <td>Tue Oct 31 21:49:35 +0000 2017</td>\n",
       "      <td>@sprintcare i did.</td>\n",
       "      <td>4</td>\n",
       "      <td>6.0</td>\n",
       "    </tr>\n",
       "    <tr>\n",
       "      <th>6</th>\n",
       "      <td>8</td>\n",
       "      <td>115712</td>\n",
       "      <td>True</td>\n",
       "      <td>Tue Oct 31 21:45:10 +0000 2017</td>\n",
       "      <td>@sprintcare is the worst customer service</td>\n",
       "      <td>9,6,10</td>\n",
       "      <td>NaN</td>\n",
       "    </tr>\n",
       "    <tr>\n",
       "      <th>8</th>\n",
       "      <td>12</td>\n",
       "      <td>115713</td>\n",
       "      <td>True</td>\n",
       "      <td>Tue Oct 31 22:04:47 +0000 2017</td>\n",
       "      <td>@sprintcare you gonna magically change your co...</td>\n",
       "      <td>11,13,14</td>\n",
       "      <td>15.0</td>\n",
       "    </tr>\n",
       "  </tbody>\n",
       "</table>\n",
       "</div>"
      ],
      "text/plain": [
       "   tweet_id author_id  inbound                      created_at  \\\n",
       "1         2    115712     True  Tue Oct 31 22:11:45 +0000 2017   \n",
       "2         3    115712     True  Tue Oct 31 22:08:27 +0000 2017   \n",
       "4         5    115712     True  Tue Oct 31 21:49:35 +0000 2017   \n",
       "6         8    115712     True  Tue Oct 31 21:45:10 +0000 2017   \n",
       "8        12    115713     True  Tue Oct 31 22:04:47 +0000 2017   \n",
       "\n",
       "                                                text response_tweet_id  \\\n",
       "1      @sprintcare and how do you propose we do that               NaN   \n",
       "2  @sprintcare i have sent several private messag...                 1   \n",
       "4                                 @sprintcare i did.                 4   \n",
       "6          @sprintcare is the worst customer service            9,6,10   \n",
       "8  @sprintcare you gonna magically change your co...          11,13,14   \n",
       "\n",
       "   in_response_to_tweet_id  \n",
       "1                      1.0  \n",
       "2                      4.0  \n",
       "4                      6.0  \n",
       "6                      NaN  \n",
       "8                     15.0  "
      ]
     },
     "execution_count": 18,
     "metadata": {},
     "output_type": "execute_result"
    }
   ],
   "source": [
    "df.head()"
   ]
  },
  {
   "cell_type": "markdown",
   "id": "c8278115",
   "metadata": {},
   "source": [
    "## Etiquetado de tweets"
   ]
  },
  {
   "cell_type": "markdown",
   "id": "8dcc6dfd",
   "metadata": {},
   "source": [
    "En esta sección, se hace un etiquetado rápido de los datos, se usan algunas palabras claves que usualmente en este tipo de problemas se necesitan identificar. Ya si se quiere hacer un etiquetado robusto, se recomienda usar la tecnica de Topic Modeling, que permite identificar nuevas categorias y mejorar la clasificación."
   ]
  },
  {
   "cell_type": "code",
   "execution_count": 19,
   "id": "7948a506",
   "metadata": {},
   "outputs": [],
   "source": [
    "def label_message(text):\n",
    "    critical_words = ['problem', 'issue', 'not working', 'refund', 'error', 'fail', 'help', 'wtf', 'worst', 'urgent', 'bad']\n",
    "    for word in critical_words:\n",
    "        if word in text.lower():\n",
    "            return 'critical'\n",
    "    return 'non_critical'"
   ]
  },
  {
   "cell_type": "code",
   "execution_count": 20,
   "id": "47c229ae",
   "metadata": {},
   "outputs": [
    {
     "data": {
      "text/plain": [
       "label\n",
       "non_critical    1052276\n",
       "critical         485567\n",
       "Name: count, dtype: int64"
      ]
     },
     "execution_count": 20,
     "metadata": {},
     "output_type": "execute_result"
    }
   ],
   "source": [
    "df['label'] = df['text'].apply(label_message)\n",
    "df['label'].value_counts()         # Contar la cantidad de tweets por etiqueta"
   ]
  },
  {
   "cell_type": "markdown",
   "id": "021c9d60",
   "metadata": {},
   "source": [
    "# Conclusión"
   ]
  },
  {
   "cell_type": "markdown",
   "id": "04ad8f23",
   "metadata": {},
   "source": [
    "En este punto, se termina la exploración inicial de los datos y un prototipo de etiquetado, una de las cosas mas importantes que se hace en este notebook, es descubrir que en la columna que nos interesa `text` no tiene valores nulos, y que podemos etiquetar de una manera rápida, aquellos mensajes que posiblemente tienen palabras claves que usualmente son de urgencia o que necesitan apoyo de soporte."
   ]
  }
 ],
 "metadata": {
  "kernelspec": {
   "display_name": "nequi",
   "language": "python",
   "name": "python3"
  },
  "language_info": {
   "codemirror_mode": {
    "name": "ipython",
    "version": 3
   },
   "file_extension": ".py",
   "mimetype": "text/x-python",
   "name": "python",
   "nbconvert_exporter": "python",
   "pygments_lexer": "ipython3",
   "version": "3.10.16"
  }
 },
 "nbformat": 4,
 "nbformat_minor": 5
}
