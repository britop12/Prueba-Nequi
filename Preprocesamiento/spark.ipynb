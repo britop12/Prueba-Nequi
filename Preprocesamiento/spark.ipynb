{
 "cells": [
  {
   "cell_type": "code",
   "execution_count": null,
   "id": "c239e95d",
   "metadata": {},
   "outputs": [],
   "source": [
    "from pyspark.sql import SparkSession\n",
    "import pandas as pd\n",
    "import findspark    \n",
    "import re\n",
    "import datetime\n",
    "from pyspark.sql.functions import col, udf, lit\n",
    "from pyspark.sql.types import StringType, IntegerType\n",
    "\n",
    "import os\n",
    "os.environ['HADOOP_HOME'] = 'C:\\\\hadoop'\n",
    "os.environ['hadoop.home.dir'] = 'C:\\\\hadoop'\n",
    "os.environ[\"HADOOP_OPTS\"] = \"-Djava.library.path=C:/hadoop/bin\"\n",
    "\n",
    "findspark.init()\n",
    "spark = SparkSession.builder \\\n",
    "    .appName(\"GlueTest\") \\\n",
    "    .config(\"spark.hadoop.java.library.path\", \"C:/hadoop/bin\") \\\n",
    "    .config(\"spark.driver.memory\", \"8g\") \\\n",
    "    .getOrCreate()"
   ]
  },
  {
   "cell_type": "code",
   "execution_count": 2,
   "id": "45f512b1",
   "metadata": {},
   "outputs": [
    {
     "name": "stdout",
     "output_type": "stream",
     "text": [
      "+--------+---------+-------+--------------------+--------------------+-----------------+-----------------------+\n",
      "|tweet_id|author_id|inbound|          created_at|                text|response_tweet_id|in_response_to_tweet_id|\n",
      "+--------+---------+-------+--------------------+--------------------+-----------------+-----------------------+\n",
      "|       2|   115712|   True|Tue Oct 31 22:11:...|@sprintcare and h...|             NULL|                      1|\n",
      "|       3|   115712|   True|Tue Oct 31 22:08:...|@sprintcare I hav...|                1|                      4|\n",
      "|       5|   115712|   True|Tue Oct 31 21:49:...|  @sprintcare I did.|                4|                      6|\n",
      "|       8|   115712|   True|Tue Oct 31 21:45:...|@sprintcare is th...|           9,6,10|                   NULL|\n",
      "|      12|   115713|   True|Tue Oct 31 22:04:...|@sprintcare You g...|         11,13,14|                     15|\n",
      "|      16|   115713|   True|Tue Oct 31 20:00:...|@sprintcare Since...|               15|                     17|\n",
      "|      18|   115713|   True|Tue Oct 31 19:56:...|@115714 y’all lie...|               17|                   NULL|\n",
      "|      20|   115715|   True|Tue Oct 31 22:03:...|@115714 whenever ...|               19|                   NULL|\n",
      "|      22|   115716|   True|Tue Oct 31 22:16:...|@Ask_Spectrum Wou...|               25|                     21|\n",
      "|      26|   115716|   True|Tue Oct 31 22:19:...|@Ask_Spectrum I r...|               27|                     25|\n",
      "|      23|   115716|   True|Tue Oct 31 22:16:...|@Ask_Spectrum The...|             NULL|                     21|\n",
      "|      24|   115716|   True|Tue Oct 31 22:13:...|@Ask_Spectrum Tha...|               21|                     28|\n",
      "|      29|   115716|   True|Tue Oct 31 22:01:...|actually that's a...|               28|                   NULL|\n",
      "|      31|   115717|   True|Tue Oct 31 22:06:...|Yo @Ask_Spectrum,...|               30|                   NULL|\n",
      "|      33|   115718|   True|Tue Oct 31 22:06:...|My picture on @As...|               32|                   NULL|\n",
      "|      35|   115719|   True|Tue Oct 31 22:49:...|@VerizonSupport I...|               37|                     34|\n",
      "|      36|   115719|   True|Tue Oct 31 22:10:...|somebody from @Ve...|               34|                   NULL|\n",
      "|      39|   115720|   True|Tue Oct 31 22:12:...|@VerizonSupport M...|               38|                   NULL|\n",
      "|      41|   115721|   True|Tue Oct 31 22:24:...|@VerizonSupport W...|               43|                     40|\n",
      "|      44|   115721|   True|Tue Oct 31 22:32:...|@VerizonSupport H...|               45|                     43|\n",
      "+--------+---------+-------+--------------------+--------------------+-----------------+-----------------------+\n",
      "only showing top 20 rows\n",
      "\n"
     ]
    }
   ],
   "source": [
    "df = spark.read.csv(\"twcs.csv\", header=True, inferSchema=True)\n",
    "\n",
    "df = df.filter(col('inbound') == True)\n",
    "\n",
    "df.show()"
   ]
  },
  {
   "cell_type": "code",
   "execution_count": 3,
   "id": "edb7facb",
   "metadata": {},
   "outputs": [],
   "source": [
    "@udf(StringType())\n",
    "def clean_text(text):\n",
    "    \"\"\"\n",
    "    Limpia el texto eliminando caracteres especiales y convirtiendo a minúsculas.\n",
    "    \"\"\"\n",
    "    if text is None:\n",
    "        return \"\"\n",
    "    text = text.lower()\n",
    "    text = re.sub(r\"http\\S+\", \"\", text)\n",
    "    text = re.sub(r\"[^a-zA-Z0-9\\s]\", \"\", text)\n",
    "    text = re.sub(r\"\\s+\", \" \", text)\n",
    "    return text.strip()"
   ]
  },
  {
   "cell_type": "code",
   "execution_count": 4,
   "id": "0f7060f2",
   "metadata": {},
   "outputs": [
    {
     "name": "stdout",
     "output_type": "stream",
     "text": [
      "+--------+---------+-------+--------------------+--------------------+-----------------+-----------------------+--------------------+\n",
      "|tweet_id|author_id|inbound|          created_at|                text|response_tweet_id|in_response_to_tweet_id|          clean_text|\n",
      "+--------+---------+-------+--------------------+--------------------+-----------------+-----------------------+--------------------+\n",
      "|       2|   115712|   True|Tue Oct 31 22:11:...|@sprintcare and h...|             NULL|                      1|sprintcare and ho...|\n",
      "|       3|   115712|   True|Tue Oct 31 22:08:...|@sprintcare I hav...|                1|                      4|sprintcare i have...|\n",
      "|       5|   115712|   True|Tue Oct 31 21:49:...|  @sprintcare I did.|                4|                      6|    sprintcare i did|\n",
      "|       8|   115712|   True|Tue Oct 31 21:45:...|@sprintcare is th...|           9,6,10|                   NULL|sprintcare is the...|\n",
      "|      12|   115713|   True|Tue Oct 31 22:04:...|@sprintcare You g...|         11,13,14|                     15|sprintcare you go...|\n",
      "|      16|   115713|   True|Tue Oct 31 20:00:...|@sprintcare Since...|               15|                     17|sprintcare since ...|\n",
      "|      18|   115713|   True|Tue Oct 31 19:56:...|@115714 y’all lie...|               17|                   NULL|115714 yall lie a...|\n",
      "|      20|   115715|   True|Tue Oct 31 22:03:...|@115714 whenever ...|               19|                   NULL|115714 whenever i...|\n",
      "|      22|   115716|   True|Tue Oct 31 22:16:...|@Ask_Spectrum Wou...|               25|                     21|askspectrum would...|\n",
      "|      26|   115716|   True|Tue Oct 31 22:19:...|@Ask_Spectrum I r...|               27|                     25|askspectrum i rec...|\n",
      "|      23|   115716|   True|Tue Oct 31 22:16:...|@Ask_Spectrum The...|             NULL|                     21|askspectrum the c...|\n",
      "|      24|   115716|   True|Tue Oct 31 22:13:...|@Ask_Spectrum Tha...|               21|                     28|askspectrum that ...|\n",
      "|      29|   115716|   True|Tue Oct 31 22:01:...|actually that's a...|               28|                   NULL|actually thats a ...|\n",
      "|      31|   115717|   True|Tue Oct 31 22:06:...|Yo @Ask_Spectrum,...|               30|                   NULL|yo askspectrum yo...|\n",
      "|      33|   115718|   True|Tue Oct 31 22:06:...|My picture on @As...|               32|                   NULL|my picture on ask...|\n",
      "|      35|   115719|   True|Tue Oct 31 22:49:...|@VerizonSupport I...|               37|                     34|verizonsupport i ...|\n",
      "|      36|   115719|   True|Tue Oct 31 22:10:...|somebody from @Ve...|               34|                   NULL|somebody from ver...|\n",
      "|      39|   115720|   True|Tue Oct 31 22:12:...|@VerizonSupport M...|               38|                   NULL|verizonsupport my...|\n",
      "|      41|   115721|   True|Tue Oct 31 22:24:...|@VerizonSupport W...|               43|                     40|verizonsupport wh...|\n",
      "|      44|   115721|   True|Tue Oct 31 22:32:...|@VerizonSupport H...|               45|                     43|verizonsupport ho...|\n",
      "+--------+---------+-------+--------------------+--------------------+-----------------+-----------------------+--------------------+\n",
      "only showing top 20 rows\n",
      "\n"
     ]
    }
   ],
   "source": [
    "df = df.withColumn(\"clean_text\", clean_text(col(\"text\")))\n",
    "\n",
    "df.show()"
   ]
  },
  {
   "cell_type": "code",
   "execution_count": 5,
   "id": "f225d5c1",
   "metadata": {},
   "outputs": [],
   "source": [
    "@udf(IntegerType())\n",
    "def count_token(text, token):\n",
    "    if text is None:\n",
    "        return 0\n",
    "    return text.count(token)"
   ]
  },
  {
   "cell_type": "code",
   "execution_count": 6,
   "id": "fd053ed5",
   "metadata": {},
   "outputs": [
    {
     "name": "stdout",
     "output_type": "stream",
     "text": [
      "+--------+---------+-------+--------------------+--------------------+-----------------+-----------------------+--------------------+------------------+----------------+\n",
      "|tweet_id|author_id|inbound|          created_at|                text|response_tweet_id|in_response_to_tweet_id|          clean_text|num_question_marks|num_exclamations|\n",
      "+--------+---------+-------+--------------------+--------------------+-----------------+-----------------------+--------------------+------------------+----------------+\n",
      "|       2|   115712|   True|Tue Oct 31 22:11:...|@sprintcare and h...|             NULL|                      1|sprintcare and ho...|                 0|               0|\n",
      "|       3|   115712|   True|Tue Oct 31 22:08:...|@sprintcare I hav...|                1|                      4|sprintcare i have...|                 0|               0|\n",
      "|       5|   115712|   True|Tue Oct 31 21:49:...|  @sprintcare I did.|                4|                      6|    sprintcare i did|                 0|               0|\n",
      "|       8|   115712|   True|Tue Oct 31 21:45:...|@sprintcare is th...|           9,6,10|                   NULL|sprintcare is the...|                 0|               0|\n",
      "|      12|   115713|   True|Tue Oct 31 22:04:...|@sprintcare You g...|         11,13,14|                     15|sprintcare you go...|                 0|               0|\n",
      "|      16|   115713|   True|Tue Oct 31 20:00:...|@sprintcare Since...|               15|                     17|sprintcare since ...|                 0|               0|\n",
      "|      18|   115713|   True|Tue Oct 31 19:56:...|@115714 y’all lie...|               17|                   NULL|115714 yall lie a...|                 0|               0|\n",
      "|      20|   115715|   True|Tue Oct 31 22:03:...|@115714 whenever ...|               19|                   NULL|115714 whenever i...|                 0|               0|\n",
      "|      22|   115716|   True|Tue Oct 31 22:16:...|@Ask_Spectrum Wou...|               25|                     21|askspectrum would...|                 0|               0|\n",
      "|      26|   115716|   True|Tue Oct 31 22:19:...|@Ask_Spectrum I r...|               27|                     25|askspectrum i rec...|                 0|               0|\n",
      "|      23|   115716|   True|Tue Oct 31 22:16:...|@Ask_Spectrum The...|             NULL|                     21|askspectrum the c...|                 0|               0|\n",
      "|      24|   115716|   True|Tue Oct 31 22:13:...|@Ask_Spectrum Tha...|               21|                     28|askspectrum that ...|                 0|               0|\n",
      "|      29|   115716|   True|Tue Oct 31 22:01:...|actually that's a...|               28|                   NULL|actually thats a ...|                 0|               0|\n",
      "|      31|   115717|   True|Tue Oct 31 22:06:...|Yo @Ask_Spectrum,...|               30|                   NULL|yo askspectrum yo...|                 0|               0|\n",
      "|      33|   115718|   True|Tue Oct 31 22:06:...|My picture on @As...|               32|                   NULL|my picture on ask...|                 0|               0|\n",
      "|      35|   115719|   True|Tue Oct 31 22:49:...|@VerizonSupport I...|               37|                     34|verizonsupport i ...|                 0|               0|\n",
      "|      36|   115719|   True|Tue Oct 31 22:10:...|somebody from @Ve...|               34|                   NULL|somebody from ver...|                 0|               0|\n",
      "|      39|   115720|   True|Tue Oct 31 22:12:...|@VerizonSupport M...|               38|                   NULL|verizonsupport my...|                 0|               0|\n",
      "|      41|   115721|   True|Tue Oct 31 22:24:...|@VerizonSupport W...|               43|                     40|verizonsupport wh...|                 0|               0|\n",
      "|      44|   115721|   True|Tue Oct 31 22:32:...|@VerizonSupport H...|               45|                     43|verizonsupport ho...|                 0|               0|\n",
      "+--------+---------+-------+--------------------+--------------------+-----------------+-----------------------+--------------------+------------------+----------------+\n",
      "only showing top 20 rows\n",
      "\n"
     ]
    }
   ],
   "source": [
    "df = df.withColumn(\"num_question_marks\", count_token(col(\"clean_text\"), lit(\"?\")))\n",
    "df = df.withColumn(\"num_exclamations\", count_token(col(\"clean_text\"), lit(\"!\")))\n",
    "\n",
    "df.show()"
   ]
  },
  {
   "cell_type": "code",
   "execution_count": 7,
   "id": "33cfceb9",
   "metadata": {},
   "outputs": [],
   "source": [
    "# Palabras clave\n",
    "critical_words = ['problem', 'issue', 'not working', 'refund', 'error', 'fail', 'help', 'wtf', 'worst', 'urgent', 'bad']\n",
    "\n",
    "for word in critical_words:\n",
    "    @udf(IntegerType())\n",
    "    def has_word(text, w=word):\n",
    "        if text is None:\n",
    "            return 0\n",
    "        return int(w in text)\n",
    "    df = df.withColumn(f\"has_{word.replace(' ', '_')}\", has_word(col(\"clean_text\")))"
   ]
  },
  {
   "cell_type": "code",
   "execution_count": 17,
   "id": "0d040efa",
   "metadata": {},
   "outputs": [
    {
     "name": "stdout",
     "output_type": "stream",
     "text": [
      "+--------------------+------------------+----------------+-----------+---------+---------------+----------+---------+--------+--------+-------+---------+----------+-------+\n",
      "|          clean_text|num_question_marks|num_exclamations|has_problem|has_issue|has_not_working|has_refund|has_error|has_fail|has_help|has_wtf|has_worst|has_urgent|has_bad|\n",
      "+--------------------+------------------+----------------+-----------+---------+---------------+----------+---------+--------+--------+-------+---------+----------+-------+\n",
      "|sprintcare and ho...|                 0|               0|          0|        0|              0|         0|        0|       0|       0|      0|        0|         0|      0|\n",
      "|sprintcare i have...|                 0|               0|          0|        0|              0|         0|        0|       0|       0|      0|        0|         0|      0|\n",
      "|    sprintcare i did|                 0|               0|          0|        0|              0|         0|        0|       0|       0|      0|        0|         0|      0|\n",
      "|sprintcare is the...|                 0|               0|          0|        0|              0|         0|        0|       0|       0|      0|        1|         0|      0|\n",
      "|sprintcare you go...|                 0|               0|          0|        0|              0|         0|        0|       0|       0|      0|        0|         0|      0|\n",
      "|sprintcare since ...|                 0|               0|          0|        0|              0|         0|        0|       0|       0|      0|        0|         0|      0|\n",
      "|115714 yall lie a...|                 0|               0|          0|        0|              0|         0|        0|       0|       0|      0|        0|         0|      0|\n",
      "|115714 whenever i...|                 0|               0|          0|        0|              0|         0|        0|       0|       0|      0|        0|         0|      0|\n",
      "|askspectrum would...|                 0|               0|          0|        0|              0|         0|        0|       0|       0|      0|        0|         0|      0|\n",
      "|askspectrum i rec...|                 0|               0|          0|        0|              0|         0|        0|       0|       0|      0|        0|         0|      0|\n",
      "|askspectrum the c...|                 0|               0|          0|        0|              0|         0|        0|       0|       0|      0|        0|         0|      0|\n",
      "|askspectrum that ...|                 0|               0|          0|        0|              0|         0|        0|       0|       0|      0|        0|         0|      0|\n",
      "|actually thats a ...|                 0|               0|          0|        0|              0|         0|        0|       0|       0|      0|        0|         0|      0|\n",
      "|yo askspectrum yo...|                 0|               0|          0|        0|              0|         0|        0|       0|       0|      0|        0|         0|      0|\n",
      "|my picture on ask...|                 0|               0|          0|        0|              0|         0|        0|       0|       0|      0|        0|         0|      0|\n",
      "|verizonsupport i ...|                 0|               0|          0|        0|              0|         0|        0|       0|       1|      0|        0|         0|      0|\n",
      "|somebody from ver...|                 0|               0|          0|        0|              0|         0|        0|       0|       1|      0|        1|         0|      0|\n",
      "|verizonsupport my...|                 0|               0|          0|        0|              0|         0|        0|       0|       0|      0|        0|         0|      0|\n",
      "|verizonsupport wh...|                 0|               0|          0|        0|              0|         0|        0|       0|       1|      0|        0|         0|      0|\n",
      "|verizonsupport ho...|                 0|               0|          0|        0|              0|         0|        0|       0|       0|      0|        0|         0|      0|\n",
      "+--------------------+------------------+----------------+-----------+---------+---------------+----------+---------+--------+--------+-------+---------+----------+-------+\n",
      "only showing top 20 rows\n",
      "\n"
     ]
    }
   ],
   "source": [
    "###  Preparación de datos para guardar\n",
    "output_cols = ['clean_text', 'num_question_marks', 'num_exclamations'] + [f\"has_{word.replace(' ', '_')}\" for word in critical_words]\n",
    "\n",
    "df_processed = df.select(output_cols)\n",
    "\n",
    "df_processed.show()"
   ]
  },
  {
   "cell_type": "code",
   "execution_count": null,
   "id": "29108f0e",
   "metadata": {},
   "outputs": [],
   "source": [
    "df_processed.write.mode(\"overwrite\").parquet(\"S3://your-bucket-name/processed_data/\")\n"
   ]
  },
  {
   "cell_type": "code",
   "execution_count": 20,
   "id": "60a74b5b",
   "metadata": {},
   "outputs": [],
   "source": [
    "# Usar solo para pruebas locales\n",
    "\n",
    "# df_sample = df_processed.limit(500000).toPandas()\n",
    "# df_sample.to_parquet(\"sample_data.parquet\", index=False)"
   ]
  },
  {
   "cell_type": "code",
   "execution_count": 15,
   "id": "d635e734",
   "metadata": {},
   "outputs": [],
   "source": [
    "### Logging\n",
    "\n",
    "run_date = datetime.datetime.now().strftime(\"%Y-%m-%d %H:%M:%S\")\n",
    "\n",
    "log_text = f\"\"\"\n",
    "Preprocessing job run: 0\n",
    "Run date: {run_date}\n",
    "Source S3: S3://your-bucket-name/raw_data/twcs.csv\n",
    "Output S3: S3://your-bucket-name/processed_data/\n",
    "Total input records: {df.count()}\n",
    "\"\"\""
   ]
  },
  {
   "cell_type": "code",
   "execution_count": 16,
   "id": "459d10fe",
   "metadata": {},
   "outputs": [
    {
     "name": "stdout",
     "output_type": "stream",
     "text": [
      "Preprocessing finished and logs saved.\n"
     ]
    }
   ],
   "source": [
    "# Guarda log como txt en S3 (usando Spark)\n",
    "log_df = spark.createDataFrame([(log_text,)], [\"log\"])\n",
    "# log_df.write.mode('overwrite').text(\"S3://your-bucket-name/logs/preprocessing_log.txt\")\n",
    "# Guarda log como txt localmente\n",
    "with open(\"preprocessing_log.txt\", \"w\") as log_file:\n",
    "    log_file.write(log_text)\n",
    "\n",
    "print(\"Preprocessing finished and logs saved.\")"
   ]
  },
  {
   "cell_type": "code",
   "execution_count": null,
   "id": "a23c1efa",
   "metadata": {},
   "outputs": [],
   "source": []
  }
 ],
 "metadata": {
  "kernelspec": {
   "display_name": "nequi",
   "language": "python",
   "name": "python3"
  },
  "language_info": {
   "codemirror_mode": {
    "name": "ipython",
    "version": 3
   },
   "file_extension": ".py",
   "mimetype": "text/x-python",
   "name": "python",
   "nbconvert_exporter": "python",
   "pygments_lexer": "ipython3",
   "version": "3.10.16"
  }
 },
 "nbformat": 4,
 "nbformat_minor": 5
}
