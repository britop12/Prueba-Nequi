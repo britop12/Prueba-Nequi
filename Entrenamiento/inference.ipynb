{
 "cells": [
  {
   "cell_type": "code",
   "execution_count": 1,
   "id": "429db835",
   "metadata": {},
   "outputs": [],
   "source": [
    "import boto3\n",
    "import pandas as pd\n",
    "import joblib\n",
    "import datetime\n",
    "import os\n",
    "from io import BytesIO"
   ]
  },
  {
   "cell_type": "code",
   "execution_count": 2,
   "id": "7d1fb82e",
   "metadata": {},
   "outputs": [],
   "source": [
    "# Configuración de bucket y paths, aqui se agarraria el uri directamente del SageMaker Registry\n",
    "S3_INPUT_PATH = \"processed/yyyy-mm-dd/job_run_id/data.parquet\"\n",
    "S3_MODEL_PATH = \"models/nequi-risk-nlp/model-YYYYMMDD_HHMMSS/model.joblib\"\n",
    "S3_OUTPUT_PATH = \"predictions/yyyy-mm-dd/job_run_id/predictions.csv\""
   ]
  },
  {
   "cell_type": "code",
   "execution_count": 3,
   "id": "f1360939",
   "metadata": {},
   "outputs": [],
   "source": [
    "# Parámetros dinámicos para versionado automático\n",
    "today = datetime.datetime.now().strftime(\"%Y-%m-%d\")\n",
    "run_id = datetime.datetime.now().strftime(\"%Y%m%d%H%M%S\")\n",
    "output_s3_path = f\"predictions/{today}/{run_id}/predictions.csv\""
   ]
  },
  {
   "cell_type": "code",
   "execution_count": null,
   "id": "80afc66d",
   "metadata": {},
   "outputs": [],
   "source": [
    "# Inicialización de cliente S3\n",
    "s3 = boto3.client('s3')"
   ]
  },
  {
   "cell_type": "code",
   "execution_count": null,
   "id": "ae65de8d",
   "metadata": {},
   "outputs": [],
   "source": [
    "# Descarga de datos preprocesados desde S3\n",
    "print(\"Descargando datos de entrada...\")\n",
    "obj = s3.get_object(Bucket=S3_BUCKET, Key=S3_INPUT_PATH)\n",
    "df_input = pd.read_parquet(BytesIO(obj['Body'].read()))\n",
    "\n",
    "print(\"Datos cargados:\", df_input.shape)"
   ]
  },
  {
   "cell_type": "code",
   "execution_count": null,
   "id": "e57eeef5",
   "metadata": {},
   "outputs": [],
   "source": [
    "# Descarga y carga del modelo desde S3\n",
    "print(\"Descargando modelo desde S3...\")\n",
    "local_model_path = \"/tmp/model.joblib\"\n",
    "s3.download_file(S3_BUCKET, S3_MODEL_PATH, local_model_path)"
   ]
  },
  {
   "cell_type": "code",
   "execution_count": null,
   "id": "07af2dfe",
   "metadata": {},
   "outputs": [],
   "source": [
    "model = joblib.load(local_model_path)\n",
    "print(\"Modelo cargado.\")"
   ]
  },
  {
   "cell_type": "code",
   "execution_count": null,
   "id": "89d250a2",
   "metadata": {},
   "outputs": [],
   "source": [
    "X_pred = df_input[\"clean_text\"]\n",
    "print(\"Iniciando inferencia batch...\")\n",
    "y_pred = model.predict(X_pred)"
   ]
  },
  {
   "cell_type": "code",
   "execution_count": null,
   "id": "19771a49",
   "metadata": {},
   "outputs": [],
   "source": [
    "df_output = df_input.copy()\n",
    "df_output[\"prediction\"] = y_pred\n",
    "\n",
    "# Guardar localmente\n",
    "# local_output_path = \"/tmp/predictions.csv\"\n",
    "# df_output.to_csv(local_output_path, index=False)\n",
    "\n",
    "# Subir a S3\n",
    "print(f\"Guardando resultados en S3: {output_s3_path}\")\n",
    "s3.upload_file(local_output_path, S3_BUCKET, output_s3_path)\n",
    "\n",
    "print(\"Batch inference finalizada. Resultados guardados en S3.\")"
   ]
  },
  {
   "cell_type": "code",
   "execution_count": null,
   "id": "12c6ff9f",
   "metadata": {},
   "outputs": [],
   "source": [
    "# Logging de la ejecución\n",
    "log_message = f\"\"\"\n",
    "Batch inference run\n",
    "Input data: s3://{S3_BUCKET}/{S3_INPUT_PATH}\n",
    "Model used: s3://{S3_BUCKET}/{S3_MODEL_PATH}\n",
    "Output predictions: s3://{S3_BUCKET}/{output_s3_path}\n",
    "Total records: {df_output.shape[0]}\n",
    "Run date: {today}\n",
    "Run id: {run_id}\n",
    "\"\"\"\n",
    "\n",
    "log_path = f\"predictions/{today}/{run_id}/log.txt\"\n",
    "with open(\"/tmp/log.txt\", \"w\") as f:\n",
    "    f.write(log_message)\n",
    "s3.upload_file(\"/tmp/log.txt\", S3_BUCKET, log_path)\n",
    "\n",
    "print(\"Log de inferencia batch guardado en S3.\")"
   ]
  }
 ],
 "metadata": {
  "kernelspec": {
   "display_name": "nequi",
   "language": "python",
   "name": "python3"
  },
  "language_info": {
   "codemirror_mode": {
    "name": "ipython",
    "version": 3
   },
   "file_extension": ".py",
   "mimetype": "text/x-python",
   "name": "python",
   "nbconvert_exporter": "python",
   "pygments_lexer": "ipython3",
   "version": "3.10.16"
  }
 },
 "nbformat": 4,
 "nbformat_minor": 5
}
